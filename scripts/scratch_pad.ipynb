{
 "cells": [
  {
   "cell_type": "code",
   "execution_count": 6,
   "metadata": {},
   "outputs": [
    {
     "name": "stdout",
     "output_type": "stream",
     "text": [
      "Response: <class 'requests.models.Response'>\n"
     ]
    },
    {
     "ename": "JSONDecodeError",
     "evalue": "Expecting value: line 1 column 1 (char 0)",
     "output_type": "error",
     "traceback": [
      "\u001b[0;31m---------------------------------------------------------------------------\u001b[0m",
      "\u001b[0;31mJSONDecodeError\u001b[0m                           Traceback (most recent call last)",
      "Cell \u001b[0;32mIn[6], line 25\u001b[0m\n\u001b[1;32m     22\u001b[0m api_key \u001b[38;5;241m=\u001b[39m \u001b[38;5;124m\"\u001b[39m\u001b[38;5;124mYOUR_API_KEY_HERE\u001b[39m\u001b[38;5;124m\"\u001b[39m  \u001b[38;5;66;03m# Replace with your API key\u001b[39;00m\n\u001b[1;32m     24\u001b[0m \u001b[38;5;28;01mfor\u001b[39;00m image_path \u001b[38;5;129;01min\u001b[39;00m image_paths:\n\u001b[0;32m---> 25\u001b[0m     species_info \u001b[38;5;241m=\u001b[39m \u001b[43midentify_tree_species\u001b[49m\u001b[43m(\u001b[49m\u001b[43mimage_path\u001b[49m\u001b[43m,\u001b[49m\u001b[43m \u001b[49m\u001b[43mapi_endpoint\u001b[49m\u001b[43m,\u001b[49m\u001b[43m \u001b[49m\u001b[43mapi_key\u001b[49m\u001b[43m)\u001b[49m\n\u001b[1;32m     26\u001b[0m     \u001b[38;5;28;01mif\u001b[39;00m species_info:\n\u001b[1;32m     27\u001b[0m         \u001b[38;5;28mprint\u001b[39m(\u001b[38;5;124mf\u001b[39m\u001b[38;5;124m\"\u001b[39m\u001b[38;5;124mSpecies for \u001b[39m\u001b[38;5;132;01m{\u001b[39;00mimage_path\u001b[38;5;132;01m}\u001b[39;00m\u001b[38;5;124m: \u001b[39m\u001b[38;5;132;01m{\u001b[39;00mspecies_info\u001b[38;5;132;01m}\u001b[39;00m\u001b[38;5;124m\"\u001b[39m)\n",
      "Cell \u001b[0;32mIn[6], line 12\u001b[0m, in \u001b[0;36midentify_tree_species\u001b[0;34m(image_path, api_endpoint, api_key)\u001b[0m\n\u001b[1;32m     10\u001b[0m \u001b[38;5;28;01mif\u001b[39;00m response\u001b[38;5;241m.\u001b[39mstatus_code \u001b[38;5;241m==\u001b[39m \u001b[38;5;241m200\u001b[39m:\n\u001b[1;32m     11\u001b[0m     \u001b[38;5;28mprint\u001b[39m(\u001b[38;5;124m\"\u001b[39m\u001b[38;5;124mResponse:\u001b[39m\u001b[38;5;124m\"\u001b[39m, \u001b[38;5;28mtype\u001b[39m(response))\n\u001b[0;32m---> 12\u001b[0m     \u001b[38;5;28;01mreturn\u001b[39;00m \u001b[43mresponse\u001b[49m\u001b[38;5;241;43m.\u001b[39;49m\u001b[43mjson\u001b[49m\u001b[43m(\u001b[49m\u001b[43m)\u001b[49m  \u001b[38;5;66;03m# Assuming JSON response with species info\u001b[39;00m\n\u001b[1;32m     13\u001b[0m \u001b[38;5;28;01melse\u001b[39;00m:\n\u001b[1;32m     14\u001b[0m     \u001b[38;5;28mprint\u001b[39m(\u001b[38;5;124mf\u001b[39m\u001b[38;5;124m\"\u001b[39m\u001b[38;5;124mFailed to identify species for \u001b[39m\u001b[38;5;132;01m{\u001b[39;00mimage_path\u001b[38;5;132;01m}\u001b[39;00m\u001b[38;5;124m. Status code: \u001b[39m\u001b[38;5;132;01m{\u001b[39;00mresponse\u001b[38;5;241m.\u001b[39mstatus_code\u001b[38;5;132;01m}\u001b[39;00m\u001b[38;5;124m\"\u001b[39m)\n",
      "File \u001b[0;32m/usr/lib/python3/dist-packages/requests/models.py:897\u001b[0m, in \u001b[0;36mResponse.json\u001b[0;34m(self, **kwargs)\u001b[0m\n\u001b[1;32m    891\u001b[0m         \u001b[38;5;28;01mexcept\u001b[39;00m \u001b[38;5;167;01mUnicodeDecodeError\u001b[39;00m:\n\u001b[1;32m    892\u001b[0m             \u001b[38;5;66;03m# Wrong UTF codec detected; usually because it's not UTF-8\u001b[39;00m\n\u001b[1;32m    893\u001b[0m             \u001b[38;5;66;03m# but some other 8-bit codec.  This is an RFC violation,\u001b[39;00m\n\u001b[1;32m    894\u001b[0m             \u001b[38;5;66;03m# and the server didn't bother to tell us what codec *was*\u001b[39;00m\n\u001b[1;32m    895\u001b[0m             \u001b[38;5;66;03m# used.\u001b[39;00m\n\u001b[1;32m    896\u001b[0m             \u001b[38;5;28;01mpass\u001b[39;00m\n\u001b[0;32m--> 897\u001b[0m \u001b[38;5;28;01mreturn\u001b[39;00m \u001b[43mcomplexjson\u001b[49m\u001b[38;5;241;43m.\u001b[39;49m\u001b[43mloads\u001b[49m\u001b[43m(\u001b[49m\u001b[38;5;28;43mself\u001b[39;49m\u001b[38;5;241;43m.\u001b[39;49m\u001b[43mtext\u001b[49m\u001b[43m,\u001b[49m\u001b[43m \u001b[49m\u001b[38;5;241;43m*\u001b[39;49m\u001b[38;5;241;43m*\u001b[39;49m\u001b[43mkwargs\u001b[49m\u001b[43m)\u001b[49m\n",
      "File \u001b[0;32m/usr/lib/python3/dist-packages/simplejson/__init__.py:518\u001b[0m, in \u001b[0;36mloads\u001b[0;34m(s, encoding, cls, object_hook, parse_float, parse_int, parse_constant, object_pairs_hook, use_decimal, **kw)\u001b[0m\n\u001b[1;32m    467\u001b[0m \u001b[38;5;250m\u001b[39m\u001b[38;5;124;03m\"\"\"Deserialize ``s`` (a ``str`` or ``unicode`` instance containing a JSON\u001b[39;00m\n\u001b[1;32m    468\u001b[0m \u001b[38;5;124;03mdocument) to a Python object.\u001b[39;00m\n\u001b[1;32m    469\u001b[0m \n\u001b[0;32m   (...)\u001b[0m\n\u001b[1;32m    512\u001b[0m \n\u001b[1;32m    513\u001b[0m \u001b[38;5;124;03m\"\"\"\u001b[39;00m\n\u001b[1;32m    514\u001b[0m \u001b[38;5;28;01mif\u001b[39;00m (\u001b[38;5;28mcls\u001b[39m \u001b[38;5;129;01mis\u001b[39;00m \u001b[38;5;28;01mNone\u001b[39;00m \u001b[38;5;129;01mand\u001b[39;00m encoding \u001b[38;5;129;01mis\u001b[39;00m \u001b[38;5;28;01mNone\u001b[39;00m \u001b[38;5;129;01mand\u001b[39;00m object_hook \u001b[38;5;129;01mis\u001b[39;00m \u001b[38;5;28;01mNone\u001b[39;00m \u001b[38;5;129;01mand\u001b[39;00m\n\u001b[1;32m    515\u001b[0m         parse_int \u001b[38;5;129;01mis\u001b[39;00m \u001b[38;5;28;01mNone\u001b[39;00m \u001b[38;5;129;01mand\u001b[39;00m parse_float \u001b[38;5;129;01mis\u001b[39;00m \u001b[38;5;28;01mNone\u001b[39;00m \u001b[38;5;129;01mand\u001b[39;00m\n\u001b[1;32m    516\u001b[0m         parse_constant \u001b[38;5;129;01mis\u001b[39;00m \u001b[38;5;28;01mNone\u001b[39;00m \u001b[38;5;129;01mand\u001b[39;00m object_pairs_hook \u001b[38;5;129;01mis\u001b[39;00m \u001b[38;5;28;01mNone\u001b[39;00m\n\u001b[1;32m    517\u001b[0m         \u001b[38;5;129;01mand\u001b[39;00m \u001b[38;5;129;01mnot\u001b[39;00m use_decimal \u001b[38;5;129;01mand\u001b[39;00m \u001b[38;5;129;01mnot\u001b[39;00m kw):\n\u001b[0;32m--> 518\u001b[0m     \u001b[38;5;28;01mreturn\u001b[39;00m \u001b[43m_default_decoder\u001b[49m\u001b[38;5;241;43m.\u001b[39;49m\u001b[43mdecode\u001b[49m\u001b[43m(\u001b[49m\u001b[43ms\u001b[49m\u001b[43m)\u001b[49m\n\u001b[1;32m    519\u001b[0m \u001b[38;5;28;01mif\u001b[39;00m \u001b[38;5;28mcls\u001b[39m \u001b[38;5;129;01mis\u001b[39;00m \u001b[38;5;28;01mNone\u001b[39;00m:\n\u001b[1;32m    520\u001b[0m     \u001b[38;5;28mcls\u001b[39m \u001b[38;5;241m=\u001b[39m JSONDecoder\n",
      "File \u001b[0;32m/usr/lib/python3/dist-packages/simplejson/decoder.py:370\u001b[0m, in \u001b[0;36mJSONDecoder.decode\u001b[0;34m(self, s, _w, _PY3)\u001b[0m\n\u001b[1;32m    368\u001b[0m \u001b[38;5;28;01mif\u001b[39;00m _PY3 \u001b[38;5;129;01mand\u001b[39;00m \u001b[38;5;28misinstance\u001b[39m(s, \u001b[38;5;28mbytes\u001b[39m):\n\u001b[1;32m    369\u001b[0m     s \u001b[38;5;241m=\u001b[39m \u001b[38;5;28mstr\u001b[39m(s, \u001b[38;5;28mself\u001b[39m\u001b[38;5;241m.\u001b[39mencoding)\n\u001b[0;32m--> 370\u001b[0m obj, end \u001b[38;5;241m=\u001b[39m \u001b[38;5;28;43mself\u001b[39;49m\u001b[38;5;241;43m.\u001b[39;49m\u001b[43mraw_decode\u001b[49m\u001b[43m(\u001b[49m\u001b[43ms\u001b[49m\u001b[43m)\u001b[49m\n\u001b[1;32m    371\u001b[0m end \u001b[38;5;241m=\u001b[39m _w(s, end)\u001b[38;5;241m.\u001b[39mend()\n\u001b[1;32m    372\u001b[0m \u001b[38;5;28;01mif\u001b[39;00m end \u001b[38;5;241m!=\u001b[39m \u001b[38;5;28mlen\u001b[39m(s):\n",
      "File \u001b[0;32m/usr/lib/python3/dist-packages/simplejson/decoder.py:400\u001b[0m, in \u001b[0;36mJSONDecoder.raw_decode\u001b[0;34m(self, s, idx, _w, _PY3)\u001b[0m\n\u001b[1;32m    398\u001b[0m     \u001b[38;5;28;01melif\u001b[39;00m ord0 \u001b[38;5;241m==\u001b[39m \u001b[38;5;241m0xef\u001b[39m \u001b[38;5;129;01mand\u001b[39;00m s[idx:idx \u001b[38;5;241m+\u001b[39m \u001b[38;5;241m3\u001b[39m] \u001b[38;5;241m==\u001b[39m \u001b[38;5;124m'\u001b[39m\u001b[38;5;130;01m\\xef\u001b[39;00m\u001b[38;5;130;01m\\xbb\u001b[39;00m\u001b[38;5;130;01m\\xbf\u001b[39;00m\u001b[38;5;124m'\u001b[39m:\n\u001b[1;32m    399\u001b[0m         idx \u001b[38;5;241m+\u001b[39m\u001b[38;5;241m=\u001b[39m \u001b[38;5;241m3\u001b[39m\n\u001b[0;32m--> 400\u001b[0m \u001b[38;5;28;01mreturn\u001b[39;00m \u001b[38;5;28;43mself\u001b[39;49m\u001b[38;5;241;43m.\u001b[39;49m\u001b[43mscan_once\u001b[49m\u001b[43m(\u001b[49m\u001b[43ms\u001b[49m\u001b[43m,\u001b[49m\u001b[43m \u001b[49m\u001b[43midx\u001b[49m\u001b[38;5;241;43m=\u001b[39;49m\u001b[43m_w\u001b[49m\u001b[43m(\u001b[49m\u001b[43ms\u001b[49m\u001b[43m,\u001b[49m\u001b[43m \u001b[49m\u001b[43midx\u001b[49m\u001b[43m)\u001b[49m\u001b[38;5;241;43m.\u001b[39;49m\u001b[43mend\u001b[49m\u001b[43m(\u001b[49m\u001b[43m)\u001b[49m\u001b[43m)\u001b[49m\n",
      "\u001b[0;31mJSONDecodeError\u001b[0m: Expecting value: line 1 column 1 (char 0)"
     ]
    }
   ],
   "source": [
    "import requests\n",
    "\n",
    "def identify_tree_species(image_path, api_endpoint, api_key):\n",
    "    with open(image_path, 'rb') as image_file:\n",
    "        files = {'file': image_file}\n",
    "        headers = {'Authorization': f'Bearer {api_key}'}  # Adjust if Pest-ID uses a different auth system\n",
    "        headers= {}\n",
    "        response = requests.get(api_endpoint, files=files, headers=headers)\n",
    "        \n",
    "        if response.status_code == 200:\n",
    "            print(\"Response:\", type(response))\n",
    "            return response.json()  # Assuming JSON response with species info\n",
    "        else:\n",
    "            print(f\"Failed to identify species for {image_path}. Status code: {response.status_code}\")\n",
    "            return None\n",
    "\n",
    "# List of image paths\n",
    "image_paths = [\"/home/uav/Downloads/tree2.jpg\"]\n",
    "\n",
    "# Loop through each image and identify tree species\n",
    "api_endpoint = \"https://pest-id.las.iastate.edu/weed/upload\"  # Replace with actual endpoint\n",
    "api_key = \"YOUR_API_KEY_HERE\"  # Replace with your API key\n",
    "\n",
    "for image_path in image_paths:\n",
    "    species_info = identify_tree_species(image_path, api_endpoint, api_key)\n",
    "    if species_info:\n",
    "        print(f\"Species for {image_path}: {species_info}\")\n"
   ]
  },
  {
   "cell_type": "code",
   "execution_count": 2,
   "metadata": {},
   "outputs": [
    {
     "name": "stdout",
     "output_type": "stream",
     "text": [
      "Projected 2D points:\n",
      " [[[320.      240.     ]]\n",
      "\n",
      " [[475.3294  290.2849 ]]\n",
      "\n",
      " [[275.81876 388.31577]]]\n"
     ]
    }
   ],
   "source": [
    "import cv2\n",
    "import numpy as np\n",
    "\n",
    "# Define 3D points in the world coordinate system\n",
    "object_points = np.array([[0, 0, 0], [1, 0, 0], [0, 1, 0]], dtype=np.float32)\n",
    "\n",
    "# Camera parameters\n",
    "rvec = np.array([0.1, 0.2, 0.3])  # Rotation vector\n",
    "tvec = np.array([0.0, 0.0, 5.0])        # Translation vector\n",
    "camera_matrix = np.array([[800, 0, 320],\n",
    "                          [0, 800, 240],\n",
    "                          [0,   0,   1]], dtype=np.float32)\n",
    "dist_coeffs = np.zeros(5)          # Assume no lens distortion\n",
    "\n",
    "# Project 3D points to 2D\n",
    "image_points, _ = cv2.projectPoints(object_points, rvec, tvec, camera_matrix, dist_coeffs)\n",
    "\n",
    "print(\"Projected 2D points:\\n\", image_points)\n"
   ]
  },
  {
   "cell_type": "code",
   "execution_count": 2,
   "metadata": {},
   "outputs": [
    {
     "name": "stdout",
     "output_type": "stream",
     "text": [
      "Jupyter environment detected. Enabling Open3D WebVisualizer.\n",
      "[Open3D INFO] WebRTC GUI backend enabled.\n",
      "[Open3D INFO] WebRTCWindowSystem: HTTP handshake server disabled.\n"
     ]
    }
   ],
   "source": [
    "import open3d as o3d\n",
    "\n",
    "def visualize_pointcloud(filename=\"pointcloud_data.xyz\"):\n",
    "    # Load point cloud from an ASCII file.\n",
    "    # The XYZ file is assumed to have one point per line: x y z\n",
    "    pcd = o3d.io.read_point_cloud(filename, format='xyz')\n",
    "    \n",
    "    # Check if pointcloud is successfully loaded\n",
    "    if not pcd.has_points():\n",
    "        print(\"No points found in file or file not found.\")\n",
    "        return\n",
    "    \n",
    "    # Visualize the point cloud in a separate window.\n",
    "    # Use the mouse and keyboard controls in the visualization window:\n",
    "    #   - Left mouse button drag: Rotate\n",
    "    #   - Right mouse button drag: Move\n",
    "    #   - Scroll: Zoom in/out\n",
    "    #   - 'F': Set a point as the pivot of the rotation\n",
    "    #   - 'R': Reset view\n",
    "    #   - 'Q' or ESC: Exit window\n",
    "    o3d.visualization.draw_geometries([pcd])\n",
    "\n",
    "visualize_pointcloud(\"/home/robot_ai/CMU/lab/src/toh_detector/temp/pointcloud.txt\")\n"
   ]
  },
  {
   "cell_type": "code",
   "execution_count": 29,
   "metadata": {},
   "outputs": [
    {
     "name": "stdout",
     "output_type": "stream",
     "text": [
      "Closest point index: IntVector[26344]\n",
      "Closest point distance: 1\n",
      "Closest point coordinates: ['HalfEdgeTriangleMesh', 'Image', 'LineSet', 'PointCloud', 'RGBDImage', 'TetraMesh', 'TriangleMesh', 'Type', 'Unspecified', 'VoxelGrid', '__add__', '__class__', '__copy__', '__deepcopy__', '__delattr__', '__dir__', '__doc__', '__eq__', '__format__', '__ge__', '__getattribute__', '__gt__', '__hash__', '__iadd__', '__init__', '__init_subclass__', '__le__', '__lt__', '__module__', '__ne__', '__new__', '__reduce__', '__reduce_ex__', '__repr__', '__setattr__', '__sizeof__', '__str__', '__subclasshook__', 'clear', 'cluster_dbscan', 'colors', 'compute_convex_hull', 'compute_mahalanobis_distance', 'compute_mean_and_covariance', 'compute_nearest_neighbor_distance', 'compute_point_cloud_distance', 'create_from_depth_image', 'create_from_rgbd_image', 'crop', 'dimension', 'estimate_normals', 'get_axis_aligned_bounding_box', 'get_center', 'get_geometry_type', 'get_max_bound', 'get_min_bound', 'get_oriented_bounding_box', 'get_rotation_matrix_from_axis_angle', 'get_rotation_matrix_from_quaternion', 'get_rotation_matrix_from_xyz', 'get_rotation_matrix_from_xzy', 'get_rotation_matrix_from_yxz', 'get_rotation_matrix_from_yzx', 'get_rotation_matrix_from_zxy', 'get_rotation_matrix_from_zyx', 'has_colors', 'has_normals', 'has_points', 'hidden_point_removal', 'is_empty', 'normalize_normals', 'normals', 'orient_normals_consistent_tangent_plane', 'orient_normals_to_align_with_direction', 'orient_normals_towards_camera_location', 'paint_uniform_color', 'points', 'random_down_sample', 'remove_non_finite_points', 'remove_radius_outlier', 'remove_statistical_outlier', 'rotate', 'scale', 'segment_plane', 'select_by_index', 'transform', 'translate', 'uniform_down_sample', 'voxel_down_sample', 'voxel_down_sample_and_trace']\n"
     ]
    }
   ],
   "source": [
    "import open3d as o3d\n",
    "import numpy as np\n",
    "\n",
    "def highlight_point_in_cloud(pcd, query_point, highlight_color=[1.0, 1.0, 1.0]):\n",
    "    # Build a KD-tree for fast nearest-neighbor search\n",
    "    pcd_tree = o3d.geometry.KDTreeFlann(pcd)\n",
    "\n",
    "    # Query for the nearest neighbor\n",
    "    [k, idx, _] = pcd_tree.search_knn_vector_3d(query_point, 1)\n",
    "    print(f\"Closest point index: {idx}\")\n",
    "    print(f\"Closest point distance: {k}\")\n",
    "    print(f\"Closest point coordinates: {dir(pcd)}\")\n",
    "    # initialize the color array with blue color\n",
    "    pcd.colors = o3d.utility.Vector3dVector(np.array([[0.0, 0.0, 1.0] for _ in range(len(pcd.points))]))\n",
    "    if k > 0:\n",
    "        # idx[0] is the index of the closest point\n",
    "        highlight_location = pcd.points[idx[0]]\n",
    "    else:\n",
    "        print(\"No nearest point found.\")\n",
    "\n",
    "    return pcd, highlight_location\n",
    "\n",
    "# Example usage:\n",
    "# Load your point cloud\n",
    "pcd = o3d.io.read_point_cloud(\"/home/robot_ai/CMU/lab/src/toh_detector/temp/pointcloud.txt\", format='xyz')\n",
    "point_to_highlight = np.array([0.0, 0.0, 0.0])  # Replace with your coordinates\n",
    "highlighted_pcd, highlight_location = highlight_point_in_cloud(pcd, point_to_highlight)\n",
    "sphere = o3d.geometry.TriangleMesh.create_sphere(radius=0.3)\n",
    "sphere.translate(highlight_location)\n",
    "sphere.paint_uniform_color([1.0, 0.0, 0.0])  # Red sphere\n",
    "\n",
    "# Visualize\n",
    "o3d.visualization.draw_geometries([highlighted_pcd, sphere])\n"
   ]
  }
 ],
 "metadata": {
  "kernelspec": {
   "display_name": "Python 3",
   "language": "python",
   "name": "python3"
  },
  "language_info": {
   "codemirror_mode": {
    "name": "ipython",
    "version": 3
   },
   "file_extension": ".py",
   "mimetype": "text/x-python",
   "name": "python",
   "nbconvert_exporter": "python",
   "pygments_lexer": "ipython3",
   "version": "3.8.10"
  }
 },
 "nbformat": 4,
 "nbformat_minor": 2
}
